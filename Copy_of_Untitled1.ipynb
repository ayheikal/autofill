{
  "nbformat": 4,
  "nbformat_minor": 0,
  "metadata": {
    "colab": {
      "name": "Copy of Untitled1.ipynb",
      "provenance": []
    },
    "kernelspec": {
      "name": "python3",
      "display_name": "Python 3"
    },
    "accelerator": "GPU"
  },
  "cells": [
    {
      "cell_type": "code",
      "metadata": {
        "id": "1etFSKoFq225",
        "colab_type": "code",
        "colab": {}
      },
      "source": [
        "import numpy as np\n",
        "\n",
        "model_dict = {}\n",
        "\n",
        "# reading the file\n",
        "with open('/content/economy3.txt', 'r') as file:\n",
        "    data_set = file.read().replace('\\n', '')\n",
        "\n",
        "data_list_repeated = data_set.split()\n",
        "\n",
        "# remove repeated data\n",
        "data_list = []\n",
        "for d in data_list_repeated:\n",
        "    if d in data_list or len(d) < 1:\n",
        "        continue\n",
        "    else:\n",
        "        data_list.append(d)\n",
        "\n",
        "def _count(data):\n",
        "    items = data.split()\n",
        "    key = items[0] + ' ' + items[1]\n",
        "    for i in range(2, len(items)):\n",
        "        key += ' ' +items[i]\n",
        "        if key in model_dict:\n",
        "            model_dict[key] += 1 \n",
        "        else:\n",
        "            model_dict[key] = 1\n",
        "        key = items[i-1] + ' ' + items[i]\n",
        "\n",
        "\n",
        "# d = 'mohamed mohamed mohamed mohamed mohamed mohamed'\n",
        "_count(data_set)\n",
        "# print(model_dict['mohamed mohamed mohamed'])\n",
        "# for e in model_dict:\n",
        "#   print(e)\n",
        "\n",
        "# print('=============')\n",
        "def prdict_the_third_word(w1 , w2):\n",
        "  prediction = {}\n",
        "  # max = 0\n",
        "  # trigram = ''\n",
        "  for word in data_list:\n",
        "      phrase = w1 + ' ' + w2 + ' '+ word\n",
        "      if phrase in model_dict:\n",
        "        counter = model_dict[phrase]\n",
        "        prediction[phrase] = counter\n",
        "        # if(counter > max):\n",
        "          # max = counter\n",
        "          # trigram = word\n",
        "  return prediction\n",
        "\n",
        "\n"
      ],
      "execution_count": 0,
      "outputs": []
    },
    {
      "cell_type": "code",
      "metadata": {
        "id": "k3X5875ssGk9",
        "colab_type": "code",
        "outputId": "7cd13126-48ee-4a64-f1e7-dd43e7d0b9a1",
        "colab": {
          "base_uri": "https://localhost:8080/",
          "height": 68
        }
      },
      "source": [
        "def main():\n",
        "\n",
        "  print(\"Enter two words to predict the third\")\n",
        "  sentence = input()\n",
        "  sentence = sentence.split()\n",
        "  words = []\n",
        "  for s in sentence:\n",
        "    s = s.strip()\n",
        "    if(len(s) > 0):\n",
        "      words.append(s)\n",
        "  \n",
        "  if len(words) == 2:\n",
        "    predection = prdict_the_third_word(words[0], words[1])\n",
        "    if(len(predection) > 0):\n",
        "      tmp = sorted(predection.items(), key = \n",
        "             lambda kv:(kv[1], kv[0]))\n",
        "      temp=(tmp[len(tmp)-1][0]).split()\n",
        "      print(temp[2])\n",
        "    else:\n",
        "      print(\"there is no predection\")\n",
        "\n",
        "\n",
        "main() "
      ],
      "execution_count": 0,
      "outputs": [
        {
          "output_type": "stream",
          "text": [
            "Enter two words to predict the third\n",
            "وزارة الاعلام\n",
            "ووزارة\n"
          ],
          "name": "stdout"
        }
      ]
    },
    {
      "cell_type": "code",
      "metadata": {
        "id": "hPv6OuJ0zG6e",
        "colab_type": "code",
        "colab": {}
      },
      "source": [
        ""
      ],
      "execution_count": 0,
      "outputs": []
    }
  ]
}